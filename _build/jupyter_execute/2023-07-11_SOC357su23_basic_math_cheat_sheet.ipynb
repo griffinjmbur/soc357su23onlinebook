{
 "cells": [
  {
   "cell_type": "markdown",
   "id": "76a3f66e",
   "metadata": {},
   "source": [
    "# Cheat sheet with formulae    \n",
    "\n",
    "Here's a [link](https://docs.google.com/spreadsheets/d/1g94J6K4WkQgko5N4n6RWJTXMeTMayHqTTenlxkNy2VA/edit#gid=491018325) to responses to our example class survey that has formulae for doing all of these things in Sheets. You can simply copy/paste my formulae, making necessary changes as you go. \n",
    "\n",
    "$$\n",
    "    \\begin{array}{|c|c|c|}\n",
    "        \\hline\n",
    "        \\textbf{purpose} & \\textbf{name of statistic} & \\textbf{formula} \\\\\n",
    "        \\hline\n",
    "            \\text{estimate central tendency of quantitative variable} & \\text{sample mean,  } \\bar{y} & \\\n",
    "                \\frac{1}{n}\\sum_{i=1}^n y_i \\\\\n",
    "        \\hline\n",
    "            \\text{true central tendency of quantitative variable}, y & \\text{population mean,  } \\mu_y & \\\n",
    "                \\mathbb{E}(X) \\hspace{0.1cm} \\text{(don't sweat details)} \\\\\n",
    "        \\hline\n",
    "            \\text{estimate central tendency of binary variable} & \\text{mean of binary variable,   } \\bar{b} \\\n",
    "            & \\frac{1}{n}\\sum_{i=1}^n b_i \\\\\n",
    "        \\hline\n",
    "            \\text{estimate spread of quant. var.} & \\text{sample variance and sample standard deviation:   } \n",
    "            \\ s^2; s  \\\n",
    "            & s^2 = \\frac{\\sum_{i=1}^n (y_i - \\bar{y})^2}{n-1}; \\\n",
    "            s = \\sqrt{\\frac{\\sum_{i=1}^n (y_i - \\bar{y})^2}{n-1}} \\\\\n",
    "        \\hline\n",
    "            \\text{true spread of quant. var.} & \\text{variance and standard deviation:   } \\sigma^2; \\sigma  \\\n",
    "            & \\text{don't sweat details, but   } \\sigma_X^2 = \\mathbb{E}[(X-\\mu_X)^2] \\\\ \n",
    "        \\hline\n",
    "            \\text{estimate spread of sampling distribution for sample mean} & \\text{standard error, SE} \\\n",
    "            & \\frac{s}{\\sqrt{n}} \\\\\n",
    "         \\hline\n",
    "            \\text{calculate \"how weird\" our sample mean is given null,   } H_0 & \\\n",
    "            \\text{step 1: test statistic, } t & t = \\frac{\\bar{y} - \\mu_0}{\\frac{s}{\\sqrt{n}}} \\\\ \n",
    "         \\hline\n",
    "            \\text{calculate \"how weird\" our sample mean is given null,   } H_0 & \\\n",
    "            \\text{step 2: probability of a test statistic weirder than ours,   } \\mathbb{P}(|T| > |t|) \\\n",
    "            & \\text{software needed, any can do it} \\\\ \n",
    "         \\hline\n",
    "            \\text{calculate plausible band of values for the true mean,  } \\mu_0 & \\\n",
    "            \\text{step 1: find number of SEs enclosing } C \\text{ AUC} \\\n",
    "            & \\text{use software. often, } t_{95} \\approx +/- 1.96 \\\\\n",
    "         \\hline\n",
    "            \\text{calculate plausible band of values for the true mean,   } \\mu_0 & \\\n",
    "            \\text{step 2: craft confidence interval} & \\bar{y} +/- t_{C} {\\frac{s}{\\sqrt{n}}} \\\\ \n",
    "          \\hline\n",
    "    \\end{array}\n",
    "    $$"
   ]
  }
 ],
 "metadata": {
  "kernelspec": {
   "display_name": "Python 3 (ipykernel)",
   "language": "python",
   "name": "python3"
  },
  "language_info": {
   "codemirror_mode": {
    "name": "ipython",
    "version": 3
   },
   "file_extension": ".py",
   "mimetype": "text/x-python",
   "name": "python",
   "nbconvert_exporter": "python",
   "pygments_lexer": "ipython3",
   "version": "3.9.13"
  }
 },
 "nbformat": 4,
 "nbformat_minor": 5
}